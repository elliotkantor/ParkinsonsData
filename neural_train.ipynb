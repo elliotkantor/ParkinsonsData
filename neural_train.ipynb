{
  "nbformat": 4,
  "nbformat_minor": 0,
  "metadata": {
    "colab": {
      "name": "neural_train",
      "provenance": [],
      "toc_visible": true
    },
    "kernelspec": {
      "name": "python3",
      "display_name": "Python 3"
    },
    "language_info": {
      "name": "python"
    },
    "accelerator": "GPU"
  },
  "cells": [
    {
      "cell_type": "markdown",
      "metadata": {
        "id": "9F-yy0WR77FC"
      },
      "source": [
        "# Neural network training on csv data\n",
        "After running the first cell, you will have to sign in with google and copy a code"
      ]
    },
    {
      "cell_type": "code",
      "metadata": {
        "colab": {
          "base_uri": "https://localhost:8080/"
        },
        "id": "seTs1v4E32DO",
        "outputId": "50fa1d68-2969-4060-a251-5125e5270d02"
      },
      "source": [
        "!pip install -Uqq fastbook\n",
        "import fastbook\n",
        "from fastbook import *\n",
        "fastbook.setup_book()\n",
        "from fastai.tabular.all import *"
      ],
      "execution_count": 1,
      "outputs": [
        {
          "output_type": "stream",
          "text": [
            "4/1AY0e-g78i5JhWMyhJKzEuQj27ZNVB775VBwK0gmdSMjFz0cqkgK96LpvtIoMounted at /content/gdrive\n"
          ],
          "name": "stdout"
        }
      ]
    },
    {
      "cell_type": "markdown",
      "metadata": {
        "id": "vAfn2weP8Ic2"
      },
      "source": [
        "Replace the `path` variable with a relative path, or one relative to `gdrive` to access data from Google Drive"
      ]
    },
    {
      "cell_type": "code",
      "metadata": {
        "colab": {
          "base_uri": "https://localhost:8080/"
        },
        "id": "7b63X6un39wg",
        "outputId": "c6b27ab1-1066-46b9-a23c-7fe3322f1dc9"
      },
      "source": [
        "# following tutorial from: https://docs.fast.ai/tutorial.tabular.html\n",
        "path = Path(\"gdrive/MyDrive/ParkinsonsData\")\n",
        "path.ls()"
      ],
      "execution_count": 4,
      "outputs": [
        {
          "output_type": "execute_result",
          "data": {
            "text/plain": [
              "(#1) [Path('gdrive/MyDrive/ParkinsonsData/DadDoubleSupport - AiDadMom-2.csv')]"
            ]
          },
          "metadata": {
            "tags": []
          },
          "execution_count": 4
        }
      ]
    },
    {
      "cell_type": "code",
      "metadata": {
        "colab": {
          "base_uri": "https://localhost:8080/",
          "height": 204
        },
        "id": "h8BVbaQS6k2W",
        "outputId": "29047608-d906-4213-bd82-8af000678fce"
      },
      "source": [
        "# change the name of the csv inside of the path\n",
        "df = pd.read_csv(path/'DadDoubleSupport - AiDadMom-2.csv')\n",
        "df.head()"
      ],
      "execution_count": 5,
      "outputs": [
        {
          "output_type": "execute_result",
          "data": {
            "text/html": [
              "<div>\n",
              "<style scoped>\n",
              "    .dataframe tbody tr th:only-of-type {\n",
              "        vertical-align: middle;\n",
              "    }\n",
              "\n",
              "    .dataframe tbody tr th {\n",
              "        vertical-align: top;\n",
              "    }\n",
              "\n",
              "    .dataframe thead th {\n",
              "        text-align: right;\n",
              "    }\n",
              "</style>\n",
              "<table border=\"1\" class=\"dataframe\">\n",
              "  <thead>\n",
              "    <tr style=\"text-align: right;\">\n",
              "      <th></th>\n",
              "      <th>sourceName</th>\n",
              "      <th>double</th>\n",
              "      <th>speed</th>\n",
              "      <th>length</th>\n",
              "      <th>Asym</th>\n",
              "    </tr>\n",
              "  </thead>\n",
              "  <tbody>\n",
              "    <tr>\n",
              "      <th>0</th>\n",
              "      <td>1</td>\n",
              "      <td>0.305</td>\n",
              "      <td>2.550107</td>\n",
              "      <td>25.590551</td>\n",
              "      <td>0.0</td>\n",
              "    </tr>\n",
              "    <tr>\n",
              "      <th>1</th>\n",
              "      <td>1</td>\n",
              "      <td>0.294</td>\n",
              "      <td>2.930387</td>\n",
              "      <td>28.346457</td>\n",
              "      <td>0.0</td>\n",
              "    </tr>\n",
              "    <tr>\n",
              "      <th>2</th>\n",
              "      <td>1</td>\n",
              "      <td>0.293</td>\n",
              "      <td>3.042233</td>\n",
              "      <td>28.740157</td>\n",
              "      <td>0.0</td>\n",
              "    </tr>\n",
              "    <tr>\n",
              "      <th>3</th>\n",
              "      <td>1</td>\n",
              "      <td>0.292</td>\n",
              "      <td>2.997495</td>\n",
              "      <td>28.740157</td>\n",
              "      <td>0.0</td>\n",
              "    </tr>\n",
              "    <tr>\n",
              "      <th>4</th>\n",
              "      <td>1</td>\n",
              "      <td>0.291</td>\n",
              "      <td>2.997495</td>\n",
              "      <td>29.133858</td>\n",
              "      <td>0.0</td>\n",
              "    </tr>\n",
              "  </tbody>\n",
              "</table>\n",
              "</div>"
            ],
            "text/plain": [
              "   sourceName  double     speed     length  Asym\n",
              "0           1   0.305  2.550107  25.590551   0.0\n",
              "1           1   0.294  2.930387  28.346457   0.0\n",
              "2           1   0.293  3.042233  28.740157   0.0\n",
              "3           1   0.292  2.997495  28.740157   0.0\n",
              "4           1   0.291  2.997495  29.133858   0.0"
            ]
          },
          "metadata": {
            "tags": []
          },
          "execution_count": 5
        }
      ]
    },
    {
      "cell_type": "code",
      "metadata": {
        "id": "HXtXCQwc6mfm"
      },
      "source": [
        "# update categorical names (one or the other), and change y_names to be the column you want to predict\n",
        "# also change path and csv name\n",
        "dls = TabularDataLoaders.from_csv(path/'DadDoubleSupport - AiDadMom-2.csv', path=path, y_names=\"sourceName\",\n",
        "    cont_names = ['double', 'speed', 'length', 'Asym'],\n",
        "    procs = [FillMissing, Normalize])"
      ],
      "execution_count": 22,
      "outputs": []
    },
    {
      "cell_type": "code",
      "metadata": {
        "colab": {
          "base_uri": "https://localhost:8080/",
          "height": 359
        },
        "id": "9L6-bOnw62dm",
        "outputId": "6c28beef-9777-404e-d9c1-9b76a96704fa"
      },
      "source": [
        "# visualize data before training\n",
        "dls.show_batch()"
      ],
      "execution_count": 23,
      "outputs": [
        {
          "output_type": "display_data",
          "data": {
            "text/html": [
              "<table border=\"1\" class=\"dataframe\">\n",
              "  <thead>\n",
              "    <tr style=\"text-align: right;\">\n",
              "      <th></th>\n",
              "      <th>double</th>\n",
              "      <th>speed</th>\n",
              "      <th>length</th>\n",
              "      <th>Asym</th>\n",
              "      <th>sourceName</th>\n",
              "    </tr>\n",
              "  </thead>\n",
              "  <tbody>\n",
              "    <tr>\n",
              "      <th>0</th>\n",
              "      <td>0.298</td>\n",
              "      <td>3.758053</td>\n",
              "      <td>31.889763</td>\n",
              "      <td>5.225935e-10</td>\n",
              "      <td>1.0</td>\n",
              "    </tr>\n",
              "    <tr>\n",
              "      <th>1</th>\n",
              "      <td>0.281</td>\n",
              "      <td>3.422513</td>\n",
              "      <td>38.582676</td>\n",
              "      <td>5.225935e-10</td>\n",
              "      <td>1.0</td>\n",
              "    </tr>\n",
              "    <tr>\n",
              "      <th>2</th>\n",
              "      <td>0.328</td>\n",
              "      <td>2.639585</td>\n",
              "      <td>25.590551</td>\n",
              "      <td>2.000000e-02</td>\n",
              "      <td>2.0</td>\n",
              "    </tr>\n",
              "    <tr>\n",
              "      <th>3</th>\n",
              "      <td>0.279</td>\n",
              "      <td>3.377774</td>\n",
              "      <td>30.314960</td>\n",
              "      <td>5.225935e-10</td>\n",
              "      <td>1.0</td>\n",
              "    </tr>\n",
              "    <tr>\n",
              "      <th>4</th>\n",
              "      <td>0.284</td>\n",
              "      <td>3.310666</td>\n",
              "      <td>31.889763</td>\n",
              "      <td>5.225935e-10</td>\n",
              "      <td>1.0</td>\n",
              "    </tr>\n",
              "    <tr>\n",
              "      <th>5</th>\n",
              "      <td>0.297</td>\n",
              "      <td>2.013243</td>\n",
              "      <td>24.409449</td>\n",
              "      <td>5.225935e-10</td>\n",
              "      <td>2.0</td>\n",
              "    </tr>\n",
              "    <tr>\n",
              "      <th>6</th>\n",
              "      <td>0.298</td>\n",
              "      <td>2.080351</td>\n",
              "      <td>22.047245</td>\n",
              "      <td>5.225935e-10</td>\n",
              "      <td>1.0</td>\n",
              "    </tr>\n",
              "    <tr>\n",
              "      <th>7</th>\n",
              "      <td>0.322</td>\n",
              "      <td>1.632964</td>\n",
              "      <td>18.110237</td>\n",
              "      <td>5.225935e-10</td>\n",
              "      <td>1.0</td>\n",
              "    </tr>\n",
              "    <tr>\n",
              "      <th>8</th>\n",
              "      <td>0.244</td>\n",
              "      <td>1.789549</td>\n",
              "      <td>27.165354</td>\n",
              "      <td>5.225935e-10</td>\n",
              "      <td>1.0</td>\n",
              "    </tr>\n",
              "    <tr>\n",
              "      <th>9</th>\n",
              "      <td>0.325</td>\n",
              "      <td>2.661954</td>\n",
              "      <td>24.409449</td>\n",
              "      <td>3.000000e-02</td>\n",
              "      <td>1.0</td>\n",
              "    </tr>\n",
              "  </tbody>\n",
              "</table>"
            ],
            "text/plain": [
              "<IPython.core.display.HTML object>"
            ]
          },
          "metadata": {
            "tags": []
          }
        }
      ]
    },
    {
      "cell_type": "code",
      "metadata": {
        "id": "NoHZcDn37FOG"
      },
      "source": [
        "# create a model\n",
        "learn = tabular_learner(dls, metrics=mse)"
      ],
      "execution_count": 24,
      "outputs": []
    },
    {
      "cell_type": "code",
      "metadata": {
        "colab": {
          "base_uri": "https://localhost:8080/",
          "height": 979
        },
        "id": "n5y7ZZt67KRG",
        "outputId": "a4996391-646b-454b-c356-d318403e89cb"
      },
      "source": [
        "# fit for one \"epoch\" or entire loop of all of the data (change the number and see what happens!)\n",
        "learn.fit_one_cycle(30)"
      ],
      "execution_count": 25,
      "outputs": [
        {
          "output_type": "display_data",
          "data": {
            "text/html": [
              "<table border=\"1\" class=\"dataframe\">\n",
              "  <thead>\n",
              "    <tr style=\"text-align: left;\">\n",
              "      <th>epoch</th>\n",
              "      <th>train_loss</th>\n",
              "      <th>valid_loss</th>\n",
              "      <th>mse</th>\n",
              "      <th>time</th>\n",
              "    </tr>\n",
              "  </thead>\n",
              "  <tbody>\n",
              "    <tr>\n",
              "      <td>0</td>\n",
              "      <td>1.526082</td>\n",
              "      <td>1.159315</td>\n",
              "      <td>1.159315</td>\n",
              "      <td>00:00</td>\n",
              "    </tr>\n",
              "    <tr>\n",
              "      <td>1</td>\n",
              "      <td>0.989534</td>\n",
              "      <td>0.412356</td>\n",
              "      <td>0.412356</td>\n",
              "      <td>00:00</td>\n",
              "    </tr>\n",
              "    <tr>\n",
              "      <td>2</td>\n",
              "      <td>0.526668</td>\n",
              "      <td>0.105192</td>\n",
              "      <td>0.105192</td>\n",
              "      <td>00:00</td>\n",
              "    </tr>\n",
              "    <tr>\n",
              "      <td>3</td>\n",
              "      <td>0.285440</td>\n",
              "      <td>0.082447</td>\n",
              "      <td>0.082447</td>\n",
              "      <td>00:00</td>\n",
              "    </tr>\n",
              "    <tr>\n",
              "      <td>4</td>\n",
              "      <td>0.173317</td>\n",
              "      <td>0.063393</td>\n",
              "      <td>0.063393</td>\n",
              "      <td>00:00</td>\n",
              "    </tr>\n",
              "    <tr>\n",
              "      <td>5</td>\n",
              "      <td>0.118458</td>\n",
              "      <td>0.067020</td>\n",
              "      <td>0.067020</td>\n",
              "      <td>00:00</td>\n",
              "    </tr>\n",
              "    <tr>\n",
              "      <td>6</td>\n",
              "      <td>0.092204</td>\n",
              "      <td>0.054830</td>\n",
              "      <td>0.054830</td>\n",
              "      <td>00:00</td>\n",
              "    </tr>\n",
              "    <tr>\n",
              "      <td>7</td>\n",
              "      <td>0.080560</td>\n",
              "      <td>0.056012</td>\n",
              "      <td>0.056012</td>\n",
              "      <td>00:00</td>\n",
              "    </tr>\n",
              "    <tr>\n",
              "      <td>8</td>\n",
              "      <td>0.072744</td>\n",
              "      <td>0.056965</td>\n",
              "      <td>0.056965</td>\n",
              "      <td>00:00</td>\n",
              "    </tr>\n",
              "    <tr>\n",
              "      <td>9</td>\n",
              "      <td>0.066846</td>\n",
              "      <td>0.054213</td>\n",
              "      <td>0.054213</td>\n",
              "      <td>00:00</td>\n",
              "    </tr>\n",
              "    <tr>\n",
              "      <td>10</td>\n",
              "      <td>0.069581</td>\n",
              "      <td>0.053257</td>\n",
              "      <td>0.053257</td>\n",
              "      <td>00:00</td>\n",
              "    </tr>\n",
              "    <tr>\n",
              "      <td>11</td>\n",
              "      <td>0.065482</td>\n",
              "      <td>0.051698</td>\n",
              "      <td>0.051698</td>\n",
              "      <td>00:00</td>\n",
              "    </tr>\n",
              "    <tr>\n",
              "      <td>12</td>\n",
              "      <td>0.065057</td>\n",
              "      <td>0.053419</td>\n",
              "      <td>0.053419</td>\n",
              "      <td>00:00</td>\n",
              "    </tr>\n",
              "    <tr>\n",
              "      <td>13</td>\n",
              "      <td>0.064968</td>\n",
              "      <td>0.053007</td>\n",
              "      <td>0.053007</td>\n",
              "      <td>00:00</td>\n",
              "    </tr>\n",
              "    <tr>\n",
              "      <td>14</td>\n",
              "      <td>0.062405</td>\n",
              "      <td>0.055505</td>\n",
              "      <td>0.055505</td>\n",
              "      <td>00:00</td>\n",
              "    </tr>\n",
              "    <tr>\n",
              "      <td>15</td>\n",
              "      <td>0.061205</td>\n",
              "      <td>0.056510</td>\n",
              "      <td>0.056510</td>\n",
              "      <td>00:00</td>\n",
              "    </tr>\n",
              "    <tr>\n",
              "      <td>16</td>\n",
              "      <td>0.060141</td>\n",
              "      <td>0.054211</td>\n",
              "      <td>0.054211</td>\n",
              "      <td>00:00</td>\n",
              "    </tr>\n",
              "    <tr>\n",
              "      <td>17</td>\n",
              "      <td>0.059470</td>\n",
              "      <td>0.053625</td>\n",
              "      <td>0.053625</td>\n",
              "      <td>00:00</td>\n",
              "    </tr>\n",
              "    <tr>\n",
              "      <td>18</td>\n",
              "      <td>0.059445</td>\n",
              "      <td>0.059650</td>\n",
              "      <td>0.059650</td>\n",
              "      <td>00:00</td>\n",
              "    </tr>\n",
              "    <tr>\n",
              "      <td>19</td>\n",
              "      <td>0.058314</td>\n",
              "      <td>0.055276</td>\n",
              "      <td>0.055276</td>\n",
              "      <td>00:00</td>\n",
              "    </tr>\n",
              "    <tr>\n",
              "      <td>20</td>\n",
              "      <td>0.056211</td>\n",
              "      <td>0.050543</td>\n",
              "      <td>0.050543</td>\n",
              "      <td>00:00</td>\n",
              "    </tr>\n",
              "    <tr>\n",
              "      <td>21</td>\n",
              "      <td>0.056866</td>\n",
              "      <td>0.051644</td>\n",
              "      <td>0.051644</td>\n",
              "      <td>00:00</td>\n",
              "    </tr>\n",
              "    <tr>\n",
              "      <td>22</td>\n",
              "      <td>0.055344</td>\n",
              "      <td>0.051825</td>\n",
              "      <td>0.051825</td>\n",
              "      <td>00:00</td>\n",
              "    </tr>\n",
              "    <tr>\n",
              "      <td>23</td>\n",
              "      <td>0.055201</td>\n",
              "      <td>0.053637</td>\n",
              "      <td>0.053637</td>\n",
              "      <td>00:00</td>\n",
              "    </tr>\n",
              "    <tr>\n",
              "      <td>24</td>\n",
              "      <td>0.055038</td>\n",
              "      <td>0.050205</td>\n",
              "      <td>0.050205</td>\n",
              "      <td>00:00</td>\n",
              "    </tr>\n",
              "    <tr>\n",
              "      <td>25</td>\n",
              "      <td>0.054044</td>\n",
              "      <td>0.050100</td>\n",
              "      <td>0.050100</td>\n",
              "      <td>00:00</td>\n",
              "    </tr>\n",
              "    <tr>\n",
              "      <td>26</td>\n",
              "      <td>0.053522</td>\n",
              "      <td>0.049822</td>\n",
              "      <td>0.049822</td>\n",
              "      <td>00:00</td>\n",
              "    </tr>\n",
              "    <tr>\n",
              "      <td>27</td>\n",
              "      <td>0.053301</td>\n",
              "      <td>0.049767</td>\n",
              "      <td>0.049767</td>\n",
              "      <td>00:00</td>\n",
              "    </tr>\n",
              "    <tr>\n",
              "      <td>28</td>\n",
              "      <td>0.052469</td>\n",
              "      <td>0.049800</td>\n",
              "      <td>0.049800</td>\n",
              "      <td>00:00</td>\n",
              "    </tr>\n",
              "    <tr>\n",
              "      <td>29</td>\n",
              "      <td>0.051564</td>\n",
              "      <td>0.049736</td>\n",
              "      <td>0.049736</td>\n",
              "      <td>00:00</td>\n",
              "    </tr>\n",
              "  </tbody>\n",
              "</table>"
            ],
            "text/plain": [
              "<IPython.core.display.HTML object>"
            ]
          },
          "metadata": {
            "tags": []
          }
        }
      ]
    },
    {
      "cell_type": "code",
      "metadata": {
        "colab": {
          "base_uri": "https://localhost:8080/",
          "height": 328
        },
        "id": "36xWEkTe7NjR",
        "outputId": "f76bcd08-2e34-46f2-b9ee-48fa766d8b67"
      },
      "source": [
        "# see predicted vs real results in new column\n",
        "learn.show_results()"
      ],
      "execution_count": 27,
      "outputs": [
        {
          "output_type": "display_data",
          "data": {
            "text/html": [
              ""
            ],
            "text/plain": [
              "<IPython.core.display.HTML object>"
            ]
          },
          "metadata": {
            "tags": []
          }
        },
        {
          "output_type": "display_data",
          "data": {
            "text/html": [
              "<table border=\"1\" class=\"dataframe\">\n",
              "  <thead>\n",
              "    <tr style=\"text-align: right;\">\n",
              "      <th></th>\n",
              "      <th>double</th>\n",
              "      <th>speed</th>\n",
              "      <th>length</th>\n",
              "      <th>Asym</th>\n",
              "      <th>sourceName</th>\n",
              "      <th>sourceName_pred</th>\n",
              "    </tr>\n",
              "  </thead>\n",
              "  <tbody>\n",
              "    <tr>\n",
              "      <th>0</th>\n",
              "      <td>0.613338</td>\n",
              "      <td>-0.469268</td>\n",
              "      <td>-0.477593</td>\n",
              "      <td>0.455094</td>\n",
              "      <td>1.0</td>\n",
              "      <td>1.310353</td>\n",
              "    </tr>\n",
              "    <tr>\n",
              "      <th>1</th>\n",
              "      <td>-2.217011</td>\n",
              "      <td>-0.281288</td>\n",
              "      <td>-0.834445</td>\n",
              "      <td>-0.219987</td>\n",
              "      <td>1.0</td>\n",
              "      <td>1.047540</td>\n",
              "    </tr>\n",
              "    <tr>\n",
              "      <th>2</th>\n",
              "      <td>-0.630301</td>\n",
              "      <td>1.034565</td>\n",
              "      <td>0.949812</td>\n",
              "      <td>-0.219987</td>\n",
              "      <td>1.0</td>\n",
              "      <td>0.992753</td>\n",
              "    </tr>\n",
              "    <tr>\n",
              "      <th>3</th>\n",
              "      <td>-0.801836</td>\n",
              "      <td>1.899269</td>\n",
              "      <td>1.841941</td>\n",
              "      <td>-0.219987</td>\n",
              "      <td>1.0</td>\n",
              "      <td>0.991121</td>\n",
              "    </tr>\n",
              "    <tr>\n",
              "      <th>4</th>\n",
              "      <td>-0.544533</td>\n",
              "      <td>-0.657247</td>\n",
              "      <td>-0.477593</td>\n",
              "      <td>-0.219987</td>\n",
              "      <td>1.0</td>\n",
              "      <td>0.988127</td>\n",
              "    </tr>\n",
              "    <tr>\n",
              "      <th>5</th>\n",
              "      <td>-0.458764</td>\n",
              "      <td>0.696202</td>\n",
              "      <td>0.682174</td>\n",
              "      <td>-0.219987</td>\n",
              "      <td>1.0</td>\n",
              "      <td>0.976073</td>\n",
              "    </tr>\n",
              "    <tr>\n",
              "      <th>6</th>\n",
              "      <td>-0.758953</td>\n",
              "      <td>0.996969</td>\n",
              "      <td>0.949812</td>\n",
              "      <td>-0.219987</td>\n",
              "      <td>1.0</td>\n",
              "      <td>0.987058</td>\n",
              "    </tr>\n",
              "    <tr>\n",
              "      <th>7</th>\n",
              "      <td>0.913526</td>\n",
              "      <td>0.921777</td>\n",
              "      <td>1.395877</td>\n",
              "      <td>-0.219987</td>\n",
              "      <td>1.0</td>\n",
              "      <td>0.967394</td>\n",
              "    </tr>\n",
              "    <tr>\n",
              "      <th>8</th>\n",
              "      <td>-0.973373</td>\n",
              "      <td>0.207457</td>\n",
              "      <td>0.057684</td>\n",
              "      <td>0.590111</td>\n",
              "      <td>1.0</td>\n",
              "      <td>1.039067</td>\n",
              "    </tr>\n",
              "  </tbody>\n",
              "</table>"
            ],
            "text/plain": [
              "<IPython.core.display.HTML object>"
            ]
          },
          "metadata": {
            "tags": []
          }
        }
      ]
    },
    {
      "cell_type": "code",
      "metadata": {
        "colab": {
          "base_uri": "https://localhost:8080/",
          "height": 80
        },
        "id": "dbl9NGZs7Puc",
        "outputId": "88462c3d-f8d7-4d24-fd90-eb848cc4b4a2"
      },
      "source": [
        "# predict on a row in df (in this case, row 0)\n",
        "row, clas, probs = learn.predict(df.iloc[0])\n",
        "row.show()"
      ],
      "execution_count": 28,
      "outputs": [
        {
          "output_type": "display_data",
          "data": {
            "text/html": [
              ""
            ],
            "text/plain": [
              "<IPython.core.display.HTML object>"
            ]
          },
          "metadata": {
            "tags": []
          }
        },
        {
          "output_type": "display_data",
          "data": {
            "text/html": [
              "<table border=\"1\" class=\"dataframe\">\n",
              "  <thead>\n",
              "    <tr style=\"text-align: right;\">\n",
              "      <th></th>\n",
              "      <th>double</th>\n",
              "      <th>speed</th>\n",
              "      <th>length</th>\n",
              "      <th>Asym</th>\n",
              "      <th>sourceName</th>\n",
              "    </tr>\n",
              "  </thead>\n",
              "  <tbody>\n",
              "    <tr>\n",
              "      <th>0</th>\n",
              "      <td>0.305</td>\n",
              "      <td>2.550107</td>\n",
              "      <td>25.590551</td>\n",
              "      <td>5.225935e-10</td>\n",
              "      <td>1.108266</td>\n",
              "    </tr>\n",
              "  </tbody>\n",
              "</table>"
            ],
            "text/plain": [
              "<IPython.core.display.HTML object>"
            ]
          },
          "metadata": {
            "tags": []
          }
        }
      ]
    },
    {
      "cell_type": "code",
      "metadata": {
        "colab": {
          "base_uri": "https://localhost:8080/",
          "height": 204
        },
        "id": "vQuGjnsT7V_A",
        "outputId": "6bd48f82-34c7-4fb9-a8c2-653aa199cb6e"
      },
      "source": [
        "# get predictions on a new_dataset using the trained model\n",
        "# new_dataset should have same column names as the one you trained the model on\n",
        "new_dataset = df.copy()\n",
        "new_dataset.drop(['sourceName'], axis=1, inplace=True)\n",
        "new_dataset.head()"
      ],
      "execution_count": 34,
      "outputs": [
        {
          "output_type": "execute_result",
          "data": {
            "text/html": [
              "<div>\n",
              "<style scoped>\n",
              "    .dataframe tbody tr th:only-of-type {\n",
              "        vertical-align: middle;\n",
              "    }\n",
              "\n",
              "    .dataframe tbody tr th {\n",
              "        vertical-align: top;\n",
              "    }\n",
              "\n",
              "    .dataframe thead th {\n",
              "        text-align: right;\n",
              "    }\n",
              "</style>\n",
              "<table border=\"1\" class=\"dataframe\">\n",
              "  <thead>\n",
              "    <tr style=\"text-align: right;\">\n",
              "      <th></th>\n",
              "      <th>double</th>\n",
              "      <th>speed</th>\n",
              "      <th>length</th>\n",
              "      <th>Asym</th>\n",
              "    </tr>\n",
              "  </thead>\n",
              "  <tbody>\n",
              "    <tr>\n",
              "      <th>0</th>\n",
              "      <td>0.305</td>\n",
              "      <td>2.550107</td>\n",
              "      <td>25.590551</td>\n",
              "      <td>0.0</td>\n",
              "    </tr>\n",
              "    <tr>\n",
              "      <th>1</th>\n",
              "      <td>0.294</td>\n",
              "      <td>2.930387</td>\n",
              "      <td>28.346457</td>\n",
              "      <td>0.0</td>\n",
              "    </tr>\n",
              "    <tr>\n",
              "      <th>2</th>\n",
              "      <td>0.293</td>\n",
              "      <td>3.042233</td>\n",
              "      <td>28.740157</td>\n",
              "      <td>0.0</td>\n",
              "    </tr>\n",
              "    <tr>\n",
              "      <th>3</th>\n",
              "      <td>0.292</td>\n",
              "      <td>2.997495</td>\n",
              "      <td>28.740157</td>\n",
              "      <td>0.0</td>\n",
              "    </tr>\n",
              "    <tr>\n",
              "      <th>4</th>\n",
              "      <td>0.291</td>\n",
              "      <td>2.997495</td>\n",
              "      <td>29.133858</td>\n",
              "      <td>0.0</td>\n",
              "    </tr>\n",
              "  </tbody>\n",
              "</table>\n",
              "</div>"
            ],
            "text/plain": [
              "   double     speed     length  Asym\n",
              "0   0.305  2.550107  25.590551   0.0\n",
              "1   0.294  2.930387  28.346457   0.0\n",
              "2   0.293  3.042233  28.740157   0.0\n",
              "3   0.292  2.997495  28.740157   0.0\n",
              "4   0.291  2.997495  29.133858   0.0"
            ]
          },
          "metadata": {
            "tags": []
          },
          "execution_count": 34
        }
      ]
    },
    {
      "cell_type": "code",
      "metadata": {
        "colab": {
          "base_uri": "https://localhost:8080/",
          "height": 136
        },
        "id": "YN8XzxQHPycS",
        "outputId": "bfd8fe8b-4322-4bac-de87-ec00b685d0f4"
      },
      "source": [
        "# get predictions tensor\n",
        "dl = learn.dls.test_dl(new_dataset)\n",
        "pred_tensor = learn.get_preds(dl=dl)\n",
        "pred_tensor"
      ],
      "execution_count": 65,
      "outputs": [
        {
          "output_type": "display_data",
          "data": {
            "text/html": [
              ""
            ],
            "text/plain": [
              "<IPython.core.display.HTML object>"
            ]
          },
          "metadata": {
            "tags": []
          }
        },
        {
          "output_type": "execute_result",
          "data": {
            "text/plain": [
              "(tensor([[1.1083],\n",
              "         [1.0224],\n",
              "         [0.9858],\n",
              "         ...,\n",
              "         [0.9577],\n",
              "         [1.0078],\n",
              "         [1.1294]]), None)"
            ]
          },
          "metadata": {
            "tags": []
          },
          "execution_count": 65
        }
      ]
    },
    {
      "cell_type": "code",
      "metadata": {
        "colab": {
          "base_uri": "https://localhost:8080/"
        },
        "id": "thJ7f3KYQeLm",
        "outputId": "8c986671-4452-44db-8ce8-091797f0ac32"
      },
      "source": [
        "b = [a.numpy()[0] for a in list(pred_tensor[0])]\n",
        "predictions = [1 if a < 1.5 else 2 for a in b]\n",
        "predictions[:10]"
      ],
      "execution_count": 72,
      "outputs": [
        {
          "output_type": "execute_result",
          "data": {
            "text/plain": [
              "[1, 1, 1, 1, 1, 1, 1, 1, 1, 1]"
            ]
          },
          "metadata": {
            "tags": []
          },
          "execution_count": 72
        }
      ]
    },
    {
      "cell_type": "code",
      "metadata": {
        "id": "f6hPJzjYP4Ve"
      },
      "source": [
        "new_dataset['pred_sourceName'] = pd.Series(predictions)"
      ],
      "execution_count": 76,
      "outputs": []
    },
    {
      "cell_type": "code",
      "metadata": {
        "colab": {
          "base_uri": "https://localhost:8080/",
          "height": 204
        },
        "id": "GvXSyVR7QCrU",
        "outputId": "cde688f9-e74b-49f9-9d62-1f4bcefeddd0"
      },
      "source": [
        "# original, for comparison\n",
        "df.head()"
      ],
      "execution_count": 77,
      "outputs": [
        {
          "output_type": "execute_result",
          "data": {
            "text/html": [
              "<div>\n",
              "<style scoped>\n",
              "    .dataframe tbody tr th:only-of-type {\n",
              "        vertical-align: middle;\n",
              "    }\n",
              "\n",
              "    .dataframe tbody tr th {\n",
              "        vertical-align: top;\n",
              "    }\n",
              "\n",
              "    .dataframe thead th {\n",
              "        text-align: right;\n",
              "    }\n",
              "</style>\n",
              "<table border=\"1\" class=\"dataframe\">\n",
              "  <thead>\n",
              "    <tr style=\"text-align: right;\">\n",
              "      <th></th>\n",
              "      <th>sourceName</th>\n",
              "      <th>double</th>\n",
              "      <th>speed</th>\n",
              "      <th>length</th>\n",
              "      <th>Asym</th>\n",
              "    </tr>\n",
              "  </thead>\n",
              "  <tbody>\n",
              "    <tr>\n",
              "      <th>0</th>\n",
              "      <td>1</td>\n",
              "      <td>0.305</td>\n",
              "      <td>2.550107</td>\n",
              "      <td>25.590551</td>\n",
              "      <td>0.0</td>\n",
              "    </tr>\n",
              "    <tr>\n",
              "      <th>1</th>\n",
              "      <td>1</td>\n",
              "      <td>0.294</td>\n",
              "      <td>2.930387</td>\n",
              "      <td>28.346457</td>\n",
              "      <td>0.0</td>\n",
              "    </tr>\n",
              "    <tr>\n",
              "      <th>2</th>\n",
              "      <td>1</td>\n",
              "      <td>0.293</td>\n",
              "      <td>3.042233</td>\n",
              "      <td>28.740157</td>\n",
              "      <td>0.0</td>\n",
              "    </tr>\n",
              "    <tr>\n",
              "      <th>3</th>\n",
              "      <td>1</td>\n",
              "      <td>0.292</td>\n",
              "      <td>2.997495</td>\n",
              "      <td>28.740157</td>\n",
              "      <td>0.0</td>\n",
              "    </tr>\n",
              "    <tr>\n",
              "      <th>4</th>\n",
              "      <td>1</td>\n",
              "      <td>0.291</td>\n",
              "      <td>2.997495</td>\n",
              "      <td>29.133858</td>\n",
              "      <td>0.0</td>\n",
              "    </tr>\n",
              "  </tbody>\n",
              "</table>\n",
              "</div>"
            ],
            "text/plain": [
              "   sourceName  double     speed     length  Asym\n",
              "0           1   0.305  2.550107  25.590551   0.0\n",
              "1           1   0.294  2.930387  28.346457   0.0\n",
              "2           1   0.293  3.042233  28.740157   0.0\n",
              "3           1   0.292  2.997495  28.740157   0.0\n",
              "4           1   0.291  2.997495  29.133858   0.0"
            ]
          },
          "metadata": {
            "tags": []
          },
          "execution_count": 77
        }
      ]
    },
    {
      "cell_type": "code",
      "metadata": {
        "colab": {
          "base_uri": "https://localhost:8080/",
          "height": 204
        },
        "id": "gcdKo0i6P7mj",
        "outputId": "1aaeb454-ea95-4754-e543-04c420ef4630"
      },
      "source": [
        "# new predicted\n",
        "new_dataset.head()"
      ],
      "execution_count": 78,
      "outputs": [
        {
          "output_type": "execute_result",
          "data": {
            "text/html": [
              "<div>\n",
              "<style scoped>\n",
              "    .dataframe tbody tr th:only-of-type {\n",
              "        vertical-align: middle;\n",
              "    }\n",
              "\n",
              "    .dataframe tbody tr th {\n",
              "        vertical-align: top;\n",
              "    }\n",
              "\n",
              "    .dataframe thead th {\n",
              "        text-align: right;\n",
              "    }\n",
              "</style>\n",
              "<table border=\"1\" class=\"dataframe\">\n",
              "  <thead>\n",
              "    <tr style=\"text-align: right;\">\n",
              "      <th></th>\n",
              "      <th>double</th>\n",
              "      <th>speed</th>\n",
              "      <th>length</th>\n",
              "      <th>Asym</th>\n",
              "      <th>a</th>\n",
              "      <th>predicted</th>\n",
              "      <th>pred_sourceName</th>\n",
              "    </tr>\n",
              "  </thead>\n",
              "  <tbody>\n",
              "    <tr>\n",
              "      <th>0</th>\n",
              "      <td>0.305</td>\n",
              "      <td>2.550107</td>\n",
              "      <td>25.590551</td>\n",
              "      <td>0.0</td>\n",
              "      <td>(tensor(1.1083),)</td>\n",
              "      <td>1</td>\n",
              "      <td>1</td>\n",
              "    </tr>\n",
              "    <tr>\n",
              "      <th>1</th>\n",
              "      <td>0.294</td>\n",
              "      <td>2.930387</td>\n",
              "      <td>28.346457</td>\n",
              "      <td>0.0</td>\n",
              "      <td>(tensor(1.0224),)</td>\n",
              "      <td>1</td>\n",
              "      <td>1</td>\n",
              "    </tr>\n",
              "    <tr>\n",
              "      <th>2</th>\n",
              "      <td>0.293</td>\n",
              "      <td>3.042233</td>\n",
              "      <td>28.740157</td>\n",
              "      <td>0.0</td>\n",
              "      <td>(tensor(0.9858),)</td>\n",
              "      <td>1</td>\n",
              "      <td>1</td>\n",
              "    </tr>\n",
              "    <tr>\n",
              "      <th>3</th>\n",
              "      <td>0.292</td>\n",
              "      <td>2.997495</td>\n",
              "      <td>28.740157</td>\n",
              "      <td>0.0</td>\n",
              "      <td>(tensor(1.0046),)</td>\n",
              "      <td>1</td>\n",
              "      <td>1</td>\n",
              "    </tr>\n",
              "    <tr>\n",
              "      <th>4</th>\n",
              "      <td>0.291</td>\n",
              "      <td>2.997495</td>\n",
              "      <td>29.133858</td>\n",
              "      <td>0.0</td>\n",
              "      <td>(tensor(0.9973),)</td>\n",
              "      <td>1</td>\n",
              "      <td>1</td>\n",
              "    </tr>\n",
              "  </tbody>\n",
              "</table>\n",
              "</div>"
            ],
            "text/plain": [
              "   double     speed     length  Asym                  a  predicted  \\\n",
              "0   0.305  2.550107  25.590551   0.0  (tensor(1.1083),)          1   \n",
              "1   0.294  2.930387  28.346457   0.0  (tensor(1.0224),)          1   \n",
              "2   0.293  3.042233  28.740157   0.0  (tensor(0.9858),)          1   \n",
              "3   0.292  2.997495  28.740157   0.0  (tensor(1.0046),)          1   \n",
              "4   0.291  2.997495  29.133858   0.0  (tensor(0.9973),)          1   \n",
              "\n",
              "   pred_sourceName  \n",
              "0                1  \n",
              "1                1  \n",
              "2                1  \n",
              "3                1  \n",
              "4                1  "
            ]
          },
          "metadata": {
            "tags": []
          },
          "execution_count": 78
        }
      ]
    },
    {
      "cell_type": "code",
      "metadata": {
        "id": "CssLVYsyQtFT"
      },
      "source": [
        ""
      ],
      "execution_count": null,
      "outputs": []
    }
  ]
}